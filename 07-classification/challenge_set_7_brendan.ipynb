{
 "cells": [
  {
   "cell_type": "markdown",
   "metadata": {},
   "source": [
    "Topic:        Challenge Set 7\n",
    "\n",
    "Subject:      Classification Analysis on Congressional Voting Data\n",
    "\n",
    "Date:         08/20/2017\n",
    "\n",
    "Name:         Brendan Fitzpatrick\n",
    "\n",
    "Worked with:  N/A"
   ]
  },
  {
   "cell_type": "code",
   "execution_count": 113,
   "metadata": {},
   "outputs": [],
   "source": [
    "# Python 2 & 3 Compatibility\n",
    "from __future__ import print_function, division\n",
    "\n",
    "# Necessary imports\n",
    "import pandas as pd\n",
    "import numpy as np\n",
    "import matplotlib.pyplot as plt\n",
    "import seaborn as sns\n",
    "from sklearn.model_selection import train_test_split\n",
    "from sklearn.metrics import mean_squared_error\n",
    "from sklearn.neighbors import KNeighborsClassifier\n",
    "from sklearn import metrics\n",
    "from sklearn.linear_model import LogisticRegression\n",
    "from sklearn.learning_curve import learning_curve\n",
    "from sklearn.model_selection import ShuffleSplit\n",
    "from sklearn.naive_bayes import GaussianNB\n",
    "from sklearn.svm import SVC\n",
    "from sklearn.tree import DecisionTreeClassifier\n",
    "from sklearn.ensemble import RandomForestClassifier\n",
    "from sklearn.metrics import accuracy_score\n",
    "from sklearn.cross_validation import cross_val_score\n",
    "\n",
    "%matplotlib inline"
   ]
  },
  {
   "cell_type": "code",
   "execution_count": 3,
   "metadata": {
    "collapsed": true
   },
   "outputs": [],
   "source": [
    "pd.set_option('display.max_columns', 25)\n",
    "pd.set_option('display.max_rows', 25)\n",
    "pd.set_option('display.precision', 3)"
   ]
  },
  {
   "cell_type": "markdown",
   "metadata": {},
   "source": [
    "**Topic:  Classification**\n",
    "\n",
    "**Settings:  Where applicable, use test_size=.30, random_state=4444.  This will permit comparison of results across users.\n",
    "\n",
    "**Data:**\n",
    "\n",
    "Challenges 1-10:  congressional votes [Congressional Voting Records Dataset](https://archive.ics.uci.edu/ml/datasets/Congressional+Voting+Records)\n",
    "\n",
    "Challenge 11:     movie data\n",
    "\n",
    "Challenge 12:     breast cancer surgery [Haberman Survival Dataset](https://archive.ics.uci.edu/ml/datasets/Haberman%27s+Survival)\n",
    "\n",
    "\n",
    "**Data – Congressional Votes**\n",
    "\n",
    "Download the congressional votes data from here:[Congressional Voting Records Dataset](https://archive.ics.uci.edu/ml/datasets/Congressional+Voting+Records)\n",
    "\n",
    "These are votes of U.S. House of Representatives Congressmen on 16 key issues in 1984.\n",
    "\n",
    "Read the description of the fields and download the data: house-votes-84.data\n",
    "\n",
    "We will try to see if we can predict the house members' party based on their votes.\n",
    "\n",
    "We will also use some of the general machine learning tools we learned (a bit more efficiently this time)."
   ]
  },
  {
   "cell_type": "markdown",
   "metadata": {},
   "source": [
    "**Challenge 1**\n",
    "\n",
    "Load the data into a pandas dataframe. Replace 'y's with 1s, 'n's with 0s.\n",
    "\n",
    "Now, almost every representative has a ?. This represents the absence of a vote (they were absent or some other similar reason). If we dropped all the rows that had a ?, we would throw out most of our data. Instead, we will replace ? with the best guess in the Bayesian sense: in the absence of any other information, we will say that the probability of the representative saying YES is the ratio of others that said YES over the whole votes.\n",
    "\n",
    "So, convert each ? to this probability (when yes=1 and no=0, this is the mean of the column)"
   ]
  },
  {
   "cell_type": "code",
   "execution_count": 54,
   "metadata": {
    "collapsed": true
   },
   "outputs": [],
   "source": [
    "cols = np.asarray(['Party',\n",
    "        'handicapped-infants',\n",
    "        'water-project-cost-sharing',\n",
    "        'adoption-of-the-budget-resolution',\n",
    "        'physician-fee-freeze',\n",
    "        'el-salvador-aid',\n",
    "        'religious-groups-in-schools',\n",
    "        'anti-satellite-test-ban',\n",
    "        'aid-to-nicaraguan-contras',\n",
    "        'mx-missile',\n",
    "        'immigration',\n",
    "        'synfuels-corporation-cutback',\n",
    "        'education-spending',\n",
    "        'superfund-right-to-sue',\n",
    "        'crime',\n",
    "        'duty-free-exports',\n",
    "        'export-administration-act-south-africa',\n",
    "       ])\n",
    "cols = np.char.lower(cols)\n",
    "cols = np.char.replace(cols,' ','_')\n",
    "cols = np.char.replace(cols,'-','_')\n",
    "df = pd.read_csv('https://archive.ics.uci.edu/ml/machine-learning-databases/voting-records/house-votes-84.data',names = cols)"
   ]
  },
  {
   "cell_type": "code",
   "execution_count": 53,
   "metadata": {
    "collapsed": true
   },
   "outputs": [],
   "source": [
    "# create dummy variable function where the mode is used for interpolation\n",
    "def dummyVotes(x, mode):\n",
    "    if(x == '?'):\n",
    "        x = mode\n",
    "        \n",
    "    if(x == 'y'):\n",
    "        return 1\n",
    "    elif(x == 'n'):\n",
    "        return 0\n",
    "    else:\n",
    "        return x"
   ]
  },
  {
   "cell_type": "code",
   "execution_count": 55,
   "metadata": {},
   "outputs": [],
   "source": [
    "for column in df.columns[1:]:\n",
    "    mode = df[column].mode().iloc[0]\n",
    "    df[column] = df[column].apply(lambda x: dummyVotes(x, mode))"
   ]
  },
  {
   "cell_type": "markdown",
   "metadata": {},
   "source": [
    "**Challenge 2**\n",
    "\n",
    "Split the data into a test and training set. Use this function:\n",
    "\n",
    "```\n",
    "from sklearn.cross_validation import train_test_split\n",
    "```"
   ]
  },
  {
   "cell_type": "code",
   "execution_count": 59,
   "metadata": {},
   "outputs": [],
   "source": [
    "X = (df.iloc[:,1:])\n",
    "y = df.iloc[:,0].to_frame()\n",
    "X_test, X_train, y_test, y_train = train_test_split(X,y,test_size=0.3)"
   ]
  },
  {
   "cell_type": "markdown",
   "metadata": {},
   "source": [
    "**Challenge 3**\n",
    "\n",
    "Using scikit.learn's KNN algorithm, train a model that predicts the party (republican/democrat):\n",
    "\n",
    "```\n",
    "from sklearn.neighbors import KNeighborsClassifier\n",
    "```\n",
    "\n",
    "Try it with a lot of different k values (number of neighbors), from 1 to 20, and on the test set calculate the accuracy (number of correct predictions / number of all predictions) for each k\n",
    "\n",
    "You can use this to calculate accuracy:\n",
    "\n",
    "```\n",
    "from sklearn.metrics import accuracy_score\n",
    "```\n",
    "\n",
    "Which k value gives the highest accuracy?"
   ]
  },
  {
   "cell_type": "code",
   "execution_count": 91,
   "metadata": {},
   "outputs": [
    {
     "data": {
      "text/plain": [
       "433    republican\n",
       "249      democrat\n",
       "424      democrat\n",
       "343    republican\n",
       "189      democrat\n",
       "157      democrat\n",
       "152      democrat\n",
       "11     republican\n",
       "132    republican\n",
       "125    republican\n",
       "257    republican\n",
       "264      democrat\n",
       "          ...    \n",
       "368      democrat\n",
       "408      democrat\n",
       "134    republican\n",
       "29       democrat\n",
       "278    republican\n",
       "102      democrat\n",
       "243      democrat\n",
       "313    republican\n",
       "59     republican\n",
       "205      democrat\n",
       "26       democrat\n",
       "126    republican\n",
       "Name: party, Length: 131, dtype: object"
      ]
     },
     "execution_count": 91,
     "metadata": {},
     "output_type": "execute_result"
    }
   ],
   "source": [
    "y_train.iloc[:,0]"
   ]
  },
  {
   "cell_type": "code",
   "execution_count": 93,
   "metadata": {},
   "outputs": [],
   "source": [
    "# compute k-nearest neighbor accuracies for k = 1 through 20\n",
    "k = [x for x in range(1, 21)]\n",
    "accuracies = []\n",
    "for i in k:\n",
    "    knn = KNeighborsClassifier(n_neighbors=i)\n",
    "    knn.fit(X_train, y_train.iloc[:,0])\n",
    "    y_pred = knn.predict(X_test)\n",
    "    accuracies.append(metrics.accuracy_score(y_test, y_pred))"
   ]
  },
  {
   "cell_type": "code",
   "execution_count": 106,
   "metadata": {},
   "outputs": [],
   "source": [
    "accuracies_df = pd.DataFrame(data={'k': k, 'accuracies': accuracies})"
   ]
  },
  {
   "cell_type": "code",
   "execution_count": 110,
   "metadata": {},
   "outputs": [
    {
     "data": {
      "image/png": "[encoded data removed]",
      "text/plain": [
       "<matplotlib.figure.Figure at 0x7fec34cdbc88>"
      ]
     },
     "metadata": {},
     "output_type": "display_data"
    }
   ],
   "source": [
    "plt.plot(accuracies_df['k'], accuracies_df['accuracies'])\n",
    "plt.xticks(k)\n",
    "plt.show()"
   ]
  },
  {
   "cell_type": "markdown",
   "metadata": {},
   "source": [
    "We can see from the above that KNN with k=4 is our best model with an accuracy score of 0.921"
   ]
  },
  {
   "cell_type": "code",
   "execution_count": 111,
   "metadata": {},
   "outputs": [
    {
     "data": {
      "text/plain": [
       "3    0.921\n",
       "Name: accuracies, dtype: float64"
      ]
     },
     "execution_count": 111,
     "metadata": {},
     "output_type": "execute_result"
    }
   ],
   "source": [
    "accuracies_df[accuracies_df.k==4].accuracies"
   ]
  },
  {
   "cell_type": "markdown",
   "metadata": {},
   "source": [
    "**Challenge 4**\n",
    "\n",
    "Make a similar model but with `LogisticRegression` instead, calculate test accuracy."
   ]
  },
  {
   "cell_type": "code",
   "execution_count": 102,
   "metadata": {},
   "outputs": [
    {
     "data": {
      "text/plain": [
       "LogisticRegression(C=1.0, class_weight=None, dual=False, fit_intercept=True,\n",
       "          intercept_scaling=1, max_iter=100, multi_class='ovr', n_jobs=1,\n",
       "          penalty='l2', random_state=None, solver='liblinear', tol=0.0001,\n",
       "          verbose=0, warm_start=False)"
      ]
     },
     "execution_count": 102,
     "metadata": {},
     "output_type": "execute_result"
    }
   ],
   "source": [
    "logreg = LogisticRegression()\n",
    "logreg.fit(X_train, y_train.iloc[:,0])"
   ]
  },
  {
   "cell_type": "code",
   "execution_count": 103,
   "metadata": {},
   "outputs": [
    {
     "name": "stdout",
     "output_type": "stream",
     "text": [
      "train_score=0.939\n",
      "test_score=0.944\n",
      "\n"
     ]
    }
   ],
   "source": [
    "accuracy_train = logreg.score(X_train,y_train)\n",
    "accuracy_test = logreg.score(X_test,y_test)\n",
    "print(\"train_score=%.3f\\ntest_score=%.3f\\n\" % (accuracy_train, accuracy_test))"
   ]
  },
  {
   "cell_type": "markdown",
   "metadata": {},
   "source": [
    "We can see the test score for the logistic regression has a higher score then the training score. A good sign that our model is working.\n",
    "\n",
    "Additionally, our logistic regression model's accuracy score on the test set is higher then the k-nearest neighbors accuracy score, potentially indicating a better model."
   ]
  },
  {
   "cell_type": "markdown",
   "metadata": {},
   "source": [
    "**Challenge 5**\n",
    "\n",
    "Make a bar graph of democrats and republicans. How many of each are there?\n",
    "\n",
    "Make a very simple predictor that predicts 'democrat' for every incoming example.\n",
    "\n",
    "Just make a function that takes in an X --an array or matrix with input examples--, and returns an array of the same length as X, where each value is 'democrat'. For example, if X is three rows, your function should return ['democrat','democrat','democrat']. Make a y_predicted vector using this and measure its accuracy.\n",
    "\n",
    "Do the same with predicting 'republican' all the time and measure its accuracy."
   ]
  },
  {
   "cell_type": "code",
   "execution_count": 116,
   "metadata": {},
   "outputs": [
    {
     "name": "stderr",
     "output_type": "stream",
     "text": [
      "/home/bf2931/anaconda3/lib/python3.6/site-packages/seaborn/categorical.py:1460: FutureWarning: remove_na is deprecated and is a private function. Do not use.\n",
      "  stat_data = remove_na(group_data)\n"
     ]
    },
    {
     "data": {
      "text/plain": [
       "<matplotlib.axes._subplots.AxesSubplot at 0x7fec3c064390>"
      ]
     },
     "execution_count": 116,
     "metadata": {},
     "output_type": "execute_result"
    },
    {
     "data": {
      "image/png": "[encoded data removed]",
      "text/plain": [
       "<matplotlib.figure.Figure at 0x7fec34d81518>"
      ]
     },
     "metadata": {},
     "output_type": "display_data"
    }
   ],
   "source": [
    "sns.countplot(x=\"party\",data=df,palette=\"Greens_d\")"
   ]
  },
  {
   "cell_type": "code",
   "execution_count": 15,
   "metadata": {
    "collapsed": true
   },
   "outputs": [],
   "source": [
    "def democrat_predictor(X):\n",
    "    list = ['democrat' for _ in range(len(X))]"
   ]
  },
  {
   "cell_type": "code",
   "execution_count": 16,
   "metadata": {},
   "outputs": [
    {
     "name": "stdout",
     "output_type": "stream",
     "text": [
      "0.543103448276\n"
     ]
    }
   ],
   "source": [
    "print(democrat_predictor(df.iloc[:,1:]))"
   ]
  },
  {
   "cell_type": "code",
   "execution_count": 17,
   "metadata": {
    "collapsed": true
   },
   "outputs": [],
   "source": [
    "def republican_predictor(array):\n",
    "    list = ['republican' for _ in range(len(X))]\n",
    "    return logreg.score(array,pd.DataFrame(list))"
   ]
  },
  {
   "cell_type": "code",
   "execution_count": 18,
   "metadata": {},
   "outputs": [
    {
     "name": "stdout",
     "output_type": "stream",
     "text": [
      "0.456896551724\n"
     ]
    }
   ],
   "source": [
    "print(republican_predictor(df.iloc[:,1:]))"
   ]
  },
  {
   "cell_type": "markdown",
   "metadata": {},
   "source": [
    "**Challenge 6**\n",
    "\n",
    "Plot the accuracies as a function of k. Since k only matters for KNN, your logistic regression accuracy, 'democrat' predictor accuracy and 'republican' predictor accuracy will stay the same over all k, so each of these three will be a horizontal line. But the KNN accuracy will change with k."
   ]
  },
  {
   "cell_type": "code",
   "execution_count": 19,
   "metadata": {
    "collapsed": true
   },
   "outputs": [],
   "source": [
    "def plot_accuracies(k,dependent,independent):\n",
    "    y_vals = calculate_accuracy(k,dependent,independent)\n",
    "    x_vals = []\n",
    "    for x in range(1,k+1):\n",
    "        x_vals.append(x)\n",
    "    fig,ax = plt.subplots(1,1)\n",
    "    ax.plot(x_vals,y_vals,label='ground truth',color='green')\n",
    "    ax.set_ylabel('Logistic Regression Accuracy')\n",
    "    ax.set_xlabel('k')"
   ]
  },
  {
   "cell_type": "code",
   "execution_count": 20,
   "metadata": {
    "scrolled": true
   },
   "outputs": [
    {
     "data": {
      "image/png": "[encoded data removed]",
      "text/plain": [
       "<matplotlib.figure.Figure at 0x7f90df689588>"
      ]
     },
     "metadata": {},
     "output_type": "display_data"
    }
   ],
   "source": [
    "plot_accuracies(20,X,y.values.ravel())"
   ]
  },
  {
   "cell_type": "markdown",
   "metadata": {},
   "source": [
    "**Challenge 7**\n",
    "\n",
    "Plot a learning curve for the logistic regression model. But instead of going through the painstaking steps of doing it yourself, use this function:\n",
    "\n",
    "```\n",
    "from sklearn.learning_curve import learning_curve\n",
    "```\n",
    "\n",
    "This will give you the m, training errors and testing errors. All you need to do is plot them. You don't even need to give it separate training/test sets. It will do crossvalidation all by itself. Easy, isn't it? : )\n",
    "Remember, since it does cross-validation, it doesn't have a single training error or test error per m value. Instead, it has one for each fold (separate partition) of the cross validation. A good idea is to take the mean of these errors from different folds. This gives you a meaningful single number per m. What I mean is that doing something like:\n",
    "\n",
    "```\n",
    "train_cv_err = np.mean(train_err, axis=1)\n",
    "test_cv_err = np.mean(ts_err, axis=1)\n",
    "```\n",
    "\n",
    "Before plotting `m` vs `train_cv_err` and `m` vs `test_cv_err`, where `train_err` and `test_err` are the vectors returned by the learning curve function. The `np.mean(...., axis=1)` means take the mean along axis 1 (axis 1 is the columns axis-- for each row, you have a bunch of columns, each corresponding to a cross validation fold, you are averaging these columns for each row).\n",
    "\n",
    "Draw the learning curve for KNN with the best k value as well."
   ]
  },
  {
   "cell_type": "code",
   "execution_count": 21,
   "metadata": {
    "collapsed": true
   },
   "outputs": [],
   "source": [
    "title = \"Learning Curves (Logistic Regression)\"\n",
    "estimator = LogisticRegression()\n",
    "[train_sizes, train_error, test_error]= learning_curve(estimator,df.drop('class_name',1), df.class_name)"
   ]
  },
  {
   "cell_type": "code",
   "execution_count": 22,
   "metadata": {
    "collapsed": true
   },
   "outputs": [],
   "source": [
    "train_cv_err = np.mean(train_error,axis=1)\n",
    "test_cv_err = np.mean(test_error,axis=1)"
   ]
  },
  {
   "cell_type": "code",
   "execution_count": 23,
   "metadata": {},
   "outputs": [
    {
     "data": {
      "text/plain": [
       "<matplotlib.legend.Legend at 0x7f90df4da710>"
      ]
     },
     "execution_count": 23,
     "metadata": {},
     "output_type": "execute_result"
    },
    {
     "data": {
      "image/png": "[encoded data removed]",
      "text/plain": [
       "<matplotlib.figure.Figure at 0x7f90df4e2748>"
      ]
     },
     "metadata": {},
     "output_type": "display_data"
    }
   ],
   "source": [
    "plt.plot(train_sizes,train_cv_err,label='Training Error')\n",
    "plt.plot(train_sizes,test_cv_err,label='Testing Error')\n",
    "plt.title('Logistic Regression Learning Curve')\n",
    "plt.xlabel('Size of Training Observations')\n",
    "plt.ylabel('Accuracy')\n",
    "plt.legend()"
   ]
  },
  {
   "cell_type": "markdown",
   "metadata": {},
   "source": [
    "**Challenge 8**\n",
    "\n",
    "This is a preview of many other classification algorithms that we will go over. Scikit.learn has the same interface for all of these, so you can use them exactly the same way as you did LogisticRegression and KNeighborsClassifier. Use each of these to classify your data and print the test accuracy of each:\n",
    "\n",
    "Gaussian Naive Bayes\n",
    "\n",
    "```\n",
    "from sklearn.naive_bayes import GaussianNB\n",
    "```\n",
    "\n",
    "SVM (Support Vector Machine) Classifier\n",
    "\n",
    "```\n",
    "from sklearn.svm import SVC\n",
    "```\n",
    "\n",
    "Decision Tree\n",
    "\n",
    "```\n",
    "from sklearn.tree import DecisionTreeClassifier\n",
    "```\n",
    "\n",
    "Random Forest\n",
    "\n",
    "```\n",
    "from sklearn.ensemble import RandomForestClassifier\n",
    "```"
   ]
  },
  {
   "cell_type": "code",
   "execution_count": 24,
   "metadata": {},
   "outputs": [
    {
     "data": {
      "text/plain": [
       "0.95061728395061729"
      ]
     },
     "execution_count": 24,
     "metadata": {},
     "output_type": "execute_result"
    }
   ],
   "source": [
    "gnb = GaussianNB()\n",
    "gnb.fit(X_train,y_train)\n",
    "gnb_predict = gnb.predict(X_test)\n",
    "accuracy_score(y_test,gnb_predict)"
   ]
  },
  {
   "cell_type": "code",
   "execution_count": 25,
   "metadata": {},
   "outputs": [
    {
     "data": {
      "text/plain": [
       "0.95679012345679015"
      ]
     },
     "execution_count": 25,
     "metadata": {},
     "output_type": "execute_result"
    }
   ],
   "source": [
    "svc = SVC()\n",
    "svc.fit(X_train,y_train)\n",
    "svc_predict = svc.predict(X_test)\n",
    "accuracy_score(y_test,svc_predict)"
   ]
  },
  {
   "cell_type": "code",
   "execution_count": 26,
   "metadata": {},
   "outputs": [
    {
     "data": {
      "text/plain": [
       "0.94444444444444442"
      ]
     },
     "execution_count": 26,
     "metadata": {},
     "output_type": "execute_result"
    }
   ],
   "source": [
    "dtc = DecisionTreeClassifier()\n",
    "dtc.fit(X_train,y_train)\n",
    "dtc_predict = dtc.predict(X_test)\n",
    "accuracy_score(y_test,dtc_predict)"
   ]
  },
  {
   "cell_type": "code",
   "execution_count": 27,
   "metadata": {},
   "outputs": [
    {
     "data": {
      "text/plain": [
       "0.95679012345679015"
      ]
     },
     "execution_count": 27,
     "metadata": {},
     "output_type": "execute_result"
    }
   ],
   "source": [
    "rfc = RandomForestClassifier()\n",
    "rfc.fit(X_train,y_train)\n",
    "rfc_predict = rfc.predict(X_test)\n",
    "accuracy_score(y_test,rfc_predict)"
   ]
  },
  {
   "cell_type": "markdown",
   "metadata": {},
   "source": [
    "**Challenge 9**\n",
    "\n",
    "There is actually a way to do cross validation quickly to get your accuracy results for an algorithm, without separating training and test yourself:\n",
    "\n",
    "```\n",
    "from sklearn.cross_validation import cross_val_score\n",
    "```\n",
    "\n",
    "Just like the `learning_curve` function, this takes a classifier object, `X` and `Y`. Returns accuracy (or whatever score you prefer by using the _scoring_ keyword argument). Of course, it will return a score for each cross validation fold, so to get the generalized accuracy, you need to take the mean of what it returns.\n",
    "\n",
    "Use this function to calculate the cross validation score of each of the classifiers you tried before."
   ]
  },
  {
   "cell_type": "code",
   "execution_count": 28,
   "metadata": {},
   "outputs": [
    {
     "data": {
      "text/plain": [
       "0.93967143967143973"
      ]
     },
     "execution_count": 28,
     "metadata": {},
     "output_type": "execute_result"
    }
   ],
   "source": [
    "np.mean(cross_val_score(gnb,df.drop('class_name',1),df.class_name))"
   ]
  },
  {
   "cell_type": "code",
   "execution_count": 29,
   "metadata": {},
   "outputs": [
    {
     "data": {
      "text/plain": [
       "0.96547896547896539"
      ]
     },
     "execution_count": 29,
     "metadata": {},
     "output_type": "execute_result"
    }
   ],
   "source": [
    "np.mean(cross_val_score(svc,df.drop('class_name',1),df.class_name))"
   ]
  },
  {
   "cell_type": "code",
   "execution_count": 30,
   "metadata": {},
   "outputs": [
    {
     "data": {
      "text/plain": [
       "0.95687645687645695"
      ]
     },
     "execution_count": 30,
     "metadata": {},
     "output_type": "execute_result"
    }
   ],
   "source": [
    "np.mean(cross_val_score(dtc,df.drop('class_name',1),df.class_name))"
   ]
  },
  {
   "cell_type": "code",
   "execution_count": 31,
   "metadata": {},
   "outputs": [
    {
     "data": {
      "text/plain": [
       "0.96553446553446554"
      ]
     },
     "execution_count": 31,
     "metadata": {},
     "output_type": "execute_result"
    }
   ],
   "source": [
    "np.mean(cross_val_score(rfc,df.drop('class_name',1), df.class_name))"
   ]
  },
  {
   "cell_type": "markdown",
   "metadata": {},
   "source": [
    "**Challenge 10**\n",
    "\n",
    "Instead of 'democrat' or 'republican', can you predict the vote of a representative based on their other votes?\n",
    "\n",
    "Reload the data from scratch. Convert y-->1, n-->0.\n",
    "\n",
    "Choose one vote. Build a classifier (logistic regression or KNN), that uses the other votes (do not use the party as a feature) to predict if the vote will be 1 or 0.\n",
    "\n",
    "Convert each ? to the mode of the column (if a senator has not voted, make their vote 1 if most others voted 1, make it 0 if most others voted 0).\n",
    "\n",
    "Calculate the cross validation accuracy of your classifier for predicting how each representative will vote on the issue."
   ]
  },
  {
   "cell_type": "code",
   "execution_count": 32,
   "metadata": {
    "collapsed": true
   },
   "outputs": [],
   "source": [
    "df_removedNAN = df\n",
    "for i in df.columns:\n",
    "    df_removedNAN[i].fillna(df[i].mode(),inplace=True)"
   ]
  },
  {
   "cell_type": "markdown",
   "metadata": {},
   "source": [
    "Check if all '?' have been removed:"
   ]
  },
  {
   "cell_type": "code",
   "execution_count": 33,
   "metadata": {},
   "outputs": [
    {
     "name": "stdout",
     "output_type": "stream",
     "text": [
      "{'republican', 'democrat', 0.0, 1.0}\n"
     ]
    }
   ],
   "source": [
    "unique_vals = set()\n",
    "for i in cols:\n",
    "    for j in df_removedNAN[i].unique():\n",
    "        unique_vals.add(j)\n",
    "print(unique_vals)"
   ]
  },
  {
   "cell_type": "code",
   "execution_count": null,
   "metadata": {
    "collapsed": true
   },
   "outputs": [],
   "source": []
  },
  {
   "cell_type": "code",
   "execution_count": 34,
   "metadata": {},
   "outputs": [
    {
     "data": {
      "text/plain": [
       "0.90071040071040065"
      ]
     },
     "execution_count": 34,
     "metadata": {},
     "output_type": "execute_result"
    }
   ],
   "source": [
    "logreg = LogisticRegression()\n",
    "np.mean(cross_val_score(logreg,df_removedNAN.drop(['education_spending','class_name'],1),df_removedNAN.education_spending))"
   ]
  },
  {
   "cell_type": "markdown",
   "metadata": {},
   "source": [
    "**Challenge 11**\n",
    "\n",
    "Back to movie data! Choose one categoric feature to predict. I chose MPAA Rating, but genre, month, etc. are all decent choices. If you don't have any non-numeric features, you can make two bins out of a numeric one (like \"Runtime>100 mins\" and \"Runtime<=100 mins\")\n",
    "\n",
    "Make a bar graph of how many of each movie there is in the data. For example, with Ratings, show how many G, PG, PG-13, R movies there are, etc. (basically a histogram of your labels).\n",
    "\n",
    "Predict your outcome variable (labels) using KNN and logistic regression. Calculate their accuracies.\n",
    "\n",
    "Make a baseline stupid predictor that always predicts the label that is present the most in the data. Calculate its accuracy on a test set.\n",
    "\n",
    "How much better do KNN and logistic regression do versus the baseline?\n",
    "\n",
    "What are the coefficients of logistic regression? Which features affect the outcome how?"
   ]
  },
  {
   "cell_type": "code",
   "execution_count": 35,
   "metadata": {
    "collapsed": true
   },
   "outputs": [],
   "source": [
    "df_movies = pd.read_csv('2013_movies.csv')"
   ]
  },
  {
   "cell_type": "code",
   "execution_count": 36,
   "metadata": {},
   "outputs": [
    {
     "data": {
      "text/html": [
       "<div>\n",
       "<style>\n",
       "    .dataframe thead tr:only-child th {\n",
       "        text-align: right;\n",
       "    }\n",
       "\n",
       "    .dataframe thead th {\n",
       "        text-align: left;\n",
       "    }\n",
       "\n",
       "    .dataframe tbody tr th {\n",
       "        vertical-align: top;\n",
       "    }\n",
       "</style>\n",
       "<table border=\"1\" class=\"dataframe\">\n",
       "  <thead>\n",
       "    <tr style=\"text-align: right;\">\n",
       "      <th></th>\n",
       "      <th>Title</th>\n",
       "      <th>Budget</th>\n",
       "      <th>DomesticTotalGross</th>\n",
       "      <th>Director</th>\n",
       "      <th>Rating</th>\n",
       "      <th>Runtime</th>\n",
       "      <th>ReleaseDate</th>\n",
       "    </tr>\n",
       "  </thead>\n",
       "  <tbody>\n",
       "    <tr>\n",
       "      <th>0</th>\n",
       "      <td>The Hunger Games: Catching Fire</td>\n",
       "      <td>1.300e+08</td>\n",
       "      <td>424668047</td>\n",
       "      <td>Francis Lawrence</td>\n",
       "      <td>PG-13</td>\n",
       "      <td>146</td>\n",
       "      <td>2013-11-22 00:00:00</td>\n",
       "    </tr>\n",
       "    <tr>\n",
       "      <th>1</th>\n",
       "      <td>Iron Man 3</td>\n",
       "      <td>2.000e+08</td>\n",
       "      <td>409013994</td>\n",
       "      <td>Shane Black</td>\n",
       "      <td>PG-13</td>\n",
       "      <td>129</td>\n",
       "      <td>2013-05-03 00:00:00</td>\n",
       "    </tr>\n",
       "    <tr>\n",
       "      <th>2</th>\n",
       "      <td>Frozen</td>\n",
       "      <td>1.500e+08</td>\n",
       "      <td>400738009</td>\n",
       "      <td>Chris BuckJennifer Lee</td>\n",
       "      <td>PG</td>\n",
       "      <td>108</td>\n",
       "      <td>2013-11-22 00:00:00</td>\n",
       "    </tr>\n",
       "    <tr>\n",
       "      <th>3</th>\n",
       "      <td>Despicable Me 2</td>\n",
       "      <td>7.600e+07</td>\n",
       "      <td>368061265</td>\n",
       "      <td>Pierre CoffinChris Renaud</td>\n",
       "      <td>PG</td>\n",
       "      <td>98</td>\n",
       "      <td>2013-07-03 00:00:00</td>\n",
       "    </tr>\n",
       "    <tr>\n",
       "      <th>4</th>\n",
       "      <td>Man of Steel</td>\n",
       "      <td>2.250e+08</td>\n",
       "      <td>291045518</td>\n",
       "      <td>Zack Snyder</td>\n",
       "      <td>PG-13</td>\n",
       "      <td>143</td>\n",
       "      <td>2013-06-14 00:00:00</td>\n",
       "    </tr>\n",
       "  </tbody>\n",
       "</table>\n",
       "</div>"
      ],
      "text/plain": [
       "                             Title     Budget  DomesticTotalGross  \\\n",
       "0  The Hunger Games: Catching Fire  1.300e+08           424668047   \n",
       "1                       Iron Man 3  2.000e+08           409013994   \n",
       "2                           Frozen  1.500e+08           400738009   \n",
       "3                  Despicable Me 2  7.600e+07           368061265   \n",
       "4                     Man of Steel  2.250e+08           291045518   \n",
       "\n",
       "                    Director Rating  Runtime          ReleaseDate  \n",
       "0           Francis Lawrence  PG-13      146  2013-11-22 00:00:00  \n",
       "1                Shane Black  PG-13      129  2013-05-03 00:00:00  \n",
       "2     Chris BuckJennifer Lee     PG      108  2013-11-22 00:00:00  \n",
       "3  Pierre CoffinChris Renaud     PG       98  2013-07-03 00:00:00  \n",
       "4                Zack Snyder  PG-13      143  2013-06-14 00:00:00  "
      ]
     },
     "execution_count": 36,
     "metadata": {},
     "output_type": "execute_result"
    }
   ],
   "source": [
    "df_movies.head()"
   ]
  },
  {
   "cell_type": "code",
   "execution_count": 37,
   "metadata": {},
   "outputs": [
    {
     "name": "stdout",
     "output_type": "stream",
     "text": [
      "<class 'pandas.core.frame.DataFrame'>\n",
      "RangeIndex: 100 entries, 0 to 99\n",
      "Data columns (total 7 columns):\n",
      "Title                 100 non-null object\n",
      "Budget                89 non-null float64\n",
      "DomesticTotalGross    100 non-null int64\n",
      "Director              96 non-null object\n",
      "Rating                100 non-null object\n",
      "Runtime               100 non-null int64\n",
      "ReleaseDate           100 non-null object\n",
      "dtypes: float64(1), int64(2), object(4)\n",
      "memory usage: 5.5+ KB\n"
     ]
    }
   ],
   "source": [
    "df_movies.info()"
   ]
  },
  {
   "cell_type": "code",
   "execution_count": 38,
   "metadata": {},
   "outputs": [
    {
     "name": "stdout",
     "output_type": "stream",
     "text": [
      "<class 'pandas.core.frame.DataFrame'>\n",
      "Int64Index: 87 entries, 0 to 99\n",
      "Data columns (total 7 columns):\n",
      "Title                 87 non-null object\n",
      "Budget                87 non-null float64\n",
      "DomesticTotalGross    87 non-null int64\n",
      "Director              87 non-null object\n",
      "Rating                87 non-null object\n",
      "Runtime               87 non-null int64\n",
      "ReleaseDate           87 non-null object\n",
      "dtypes: float64(1), int64(2), object(4)\n",
      "memory usage: 5.4+ KB\n"
     ]
    }
   ],
   "source": [
    "df_movies.dropna(axis=0,inplace=True)\n",
    "df_movies.info()"
   ]
  },
  {
   "cell_type": "code",
   "execution_count": 39,
   "metadata": {},
   "outputs": [
    {
     "data": {
      "text/plain": [
       "<matplotlib.axes._subplots.AxesSubplot at 0x7f90df5870b8>"
      ]
     },
     "execution_count": 39,
     "metadata": {},
     "output_type": "execute_result"
    },
    {
     "data": {
      "image/png": "[encoded data removed]",
      "text/plain": [
       "<matplotlib.figure.Figure at 0x7f90df68e048>"
      ]
     },
     "metadata": {},
     "output_type": "display_data"
    }
   ],
   "source": [
    "df_movies.Rating = df_movies.Rating.str.strip()\n",
    "df_movies['Rating_cat'] = df_movies.Rating.astype(\"category\", categories=[\"G\",\"PG\",\"PG-13\",\"R\"], ordered=True)\n",
    "sns.countplot(x='Rating',data=df_movies,palette='muted')"
   ]
  },
  {
   "cell_type": "code",
   "execution_count": 40,
   "metadata": {
    "collapsed": true
   },
   "outputs": [],
   "source": [
    "X_mov_train, X_mov_test, y_mov_train, y_mov_test = train_test_split(df_movies[['Budget','DomesticTotalGross','Runtime']],df_movies.Rating.values.ravel(),test_size=0.3)"
   ]
  },
  {
   "cell_type": "code",
   "execution_count": 41,
   "metadata": {},
   "outputs": [
    {
     "data": {
      "text/plain": [
       "0.59259259259259256"
      ]
     },
     "execution_count": 41,
     "metadata": {},
     "output_type": "execute_result"
    }
   ],
   "source": [
    "logreg = LogisticRegression()\n",
    "logreg.fit(X_mov_train,y_mov_train)\n",
    "predict = logreg.predict(X_mov_test)\n",
    "accuracy_score(y_mov_test,predict)"
   ]
  },
  {
   "cell_type": "code",
   "execution_count": 43,
   "metadata": {},
   "outputs": [
    {
     "data": {
      "text/plain": [
       "0.59259259259259256"
      ]
     },
     "execution_count": 43,
     "metadata": {},
     "output_type": "execute_result"
    }
   ],
   "source": [
    "knn = KNeighborsClassifier()\n",
    "knn.fit(X_mov_train,y_mov_train)\n",
    "predict = knn.predict(X_mov_test)\n",
    "accuracy_score(y_mov_test,predict)"
   ]
  },
  {
   "cell_type": "code",
   "execution_count": 44,
   "metadata": {
    "collapsed": true
   },
   "outputs": [],
   "source": [
    "def pg13_predictor(X):\n",
    "    list = ['PG-13' for _ in range(len(X))]\n",
    "    return(accuracy_score(y_mov_test,np.array(list)))"
   ]
  },
  {
   "cell_type": "code",
   "execution_count": 45,
   "metadata": {},
   "outputs": [
    {
     "data": {
      "text/plain": [
       "0.51851851851851849"
      ]
     },
     "execution_count": 45,
     "metadata": {},
     "output_type": "execute_result"
    }
   ],
   "source": [
    "pg13_predictor(X_mov_test)"
   ]
  },
  {
   "cell_type": "markdown",
   "metadata": {},
   "source": [
    "**Challenge 12**\n",
    "\n",
    "Now you are a classification master. The representative votes dataset only had 0s and 1s. Let's just swiftly tackle the breast cancer surgery data.\n",
    "\n",
    "Get it from here: [Haberman Survival Dataset](https://archive.ics.uci.edu/ml/datasets/Haberman%27s+Survival)\n",
    "\n",
    " * What is the average and standard deviation of the age of all of the patients?\n",
    " * What is the average and standard deviation of the age of those patients that survived 5 or more years after surgery?\n",
    " * What is the average and standard deviation of the age of those patients who survived fewer than 5 years after surgery?\n",
    " * Plot a histogram of the ages side by side with a histogram of the number of axillary nodes.\n",
    " * What is the earliest year of surgery in this dataset?\n",
    " * What is the most recent year of surgery?\n",
    " * Use logistic regression to predict survival after 5 years. How well does your model do?\n",
    " * What are the coefficients of logistic regression? Which features affect the outcome how?\n",
    " * Draw the learning curve for logistic regression in this case."
   ]
  }
 ],
 "metadata": {
  "kernelspec": {
   "display_name": "Python 3",
   "language": "python",
   "name": "python3"
  },
  "language_info": {
   "codemirror_mode": {
    "name": "ipython",
    "version": 3
   },
   "file_extension": ".py",
   "mimetype": "text/x-python",
   "name": "python",
   "nbconvert_exporter": "python",
   "pygments_lexer": "ipython3",
   "version": "3.6.3"
  }
 },
 "nbformat": 4,
 "nbformat_minor": 2
}
