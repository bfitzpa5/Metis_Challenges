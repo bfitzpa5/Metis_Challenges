{
 "cells": [
  {
   "cell_type": "code",
   "execution_count": 1,
   "metadata": {
    "collapsed": true
   },
   "outputs": [],
   "source": [
    "import numpy as np\n",
    "import pandas as pd"
   ]
  },
  {
   "cell_type": "markdown",
   "metadata": {},
   "source": [
    "### MongoDB Challenges\n",
    "\n",
    "##### Setup\n",
    "\n",
    "Make sure that mongodb is setup and the database server (`mongod`) is running.\n",
    "\n",
    "We are going to work with reviews of Heavy Metal movies. Hellz Yeah.\n",
    "Unzip and unpickle the following file:\n",
    "\n",
    "[heavy_metal_parsed.pkl.zip](heavy_metal_parsed.pkl.zip)\n",
    "\n",
    "```\n",
    "import pickle\n",
    "with open(\"heavy_metal_parsed.pkl\", 'r') as datafile:\n",
    "    heavy_metal_reviews = pickle.load(datafile)\n",
    "```\n",
    "\n",
    "It's a list of dictionaries. One dictionary per review: perfect for a mongo document.\n",
    "The key `raw` has the full text as a list of lines. For example, to see the first review, you can do:\n",
    "```\n",
    "first_review = heavy_metal_reviews[0]\n",
    "for line in first_review['raw']:\n",
    "    print line\n",
    "```\n",
    "which will give you:\n",
    "\n",
    "    200 MOTELS (1971)\n",
    "    DIRECTORS: Tony Palmer, Frank Zappa\n",
    "    CAST: Frank Zappa, Ringo Starr, Mark Volman, Howard Kaylan, Keith Moon\n",
    "    METAL CRED\n",
    "    Frank Zappa\n",
    "    Nun Desecration\n",
    "    THE MEAT\n",
    "    Beyond his metal sainthood for battling the censor-witches of the PMRC and getting named checked by Deep Purple in â€œSmoke on the Waterâ€, musical visionary Frank Zappa led many rock fans to heavy metal.\n",
    "    And, from there, he led many metal fans to the outer expanses of rockâ€™s possibilities.\n",
    "    Zappa also opened countless banging heads to the far reaches of jazz, classical, doo-wop, and any other art form that could involve (brilliant) noise and (brilliantly dumb) dirty jokes.\n",
    "    200 Motels is Zappaâ€™s first crack at major motion picture madness, and it\n",
    "    embodies the much forgotten cultural moment when acid rock tumbled forever into the black pits of rising heavy metal.\n",
    "    Surrealistic sketches and psychedelic set pieces about the insanity of a being on tour are interspersed among performances in which the Mothers jam with London Philharmonic.\n",
    "    Ringo Starr plays Zappa during the talking parts. Zappa himself, plays guitar throughout, demonstrating how very much of a six-string maestro he was, every lick on par with his future collaborators Steve Vail and Yngwie Malmsteen.\n",
    "    SOLID METAL NUGGETS\n",
    "    - A psychedelic cartoon interlude admiringly tweaks Black Sabbath and Grand Funk Railroad.\n",
    "    - Keith Moon, madman drummer of the Who, pops upâ€”and offâ€”as â€œThe Hot Nun.â€\n",
    "\n",
    "Let's see what other fields each document has:\n",
    "```\n",
    "print first_review.keys()\n",
    "```\n",
    "shows\n",
    "```\n",
    "['raw',\n",
    " 'head',\n",
    " 'metal_cred',\n",
    " 'title',\n",
    " 'direct',\n",
    " 'solid_metal_nuggets',\n",
    " 'cast',\n",
    " 'the_meat',\n",
    " 'year',\n",
    " 'sections']\n",
    "```\n",
    "Basically, each section in the review is parsed into it's own key.\n",
    "\n",
    "Ok, put these documents into a mongodb collection. For these challenges, do not use the `heavy_metal_reviews` list directly. Use mongo queries (you can use the mongo client directly or use pymongo from within python).\n",
    "\n",
    "\n",
    "#####"
   ]
  },
  {
   "cell_type": "markdown",
   "metadata": {},
   "source": [
    "##### Challenge 1\n",
    "Make a histogram of the years in the data. How many metal movies came\n",
    "out over the years?"
   ]
  },
  {
   "cell_type": "markdown",
   "metadata": {},
   "source": [
    "##### Challenge 2\n",
    "Find the cast member that appeared in most Heavy Metal movies. Is\n",
    "there one that is shared by more than one of these movies? Or are they\n",
    "all completely different actors for every movie?"
   ]
  },
  {
   "cell_type": "markdown",
   "metadata": {},
   "source": [
    "##### Challenge 3\n",
    "Find the most used words in Heavy Metal film titles. Is there a word\n",
    "that appears in a lot of them? Is it \"The\"? If it is something like\n",
    "\"the\", How can you get around that? Find one \"meaningful\" word that\n",
    "appears the most (this means non-structural word, unlike \"the\" or \"a\"\n",
    "or \"in\")"
   ]
  },
  {
   "cell_type": "markdown",
   "metadata": {},
   "source": [
    "##### Challenge 4\n",
    "METAL CRED section lists themes included in these movies that makes\n",
    "them more metal.\n",
    "What were the top 5 metal cred keywords in the 70s? In 80s? In 90s, In\n",
    "2000s?"
   ]
  },
  {
   "cell_type": "markdown",
   "metadata": {},
   "source": [
    "##### Challenge 5\n",
    "Let's use the length of the METAL CRED section as a proxy score for\n",
    "how metal a movie is. Let's call this the METAL SCORE. To each mongo\n",
    "document, add the metal_score as a new field."
   ]
  },
  {
   "cell_type": "markdown",
   "metadata": {},
   "source": [
    "##### Challenge 6\n",
    "Find the director that is MOST METAL per movie (director with the\n",
    "highest average metal score).\n",
    "Remember that some movies have multiple directors."
   ]
  },
  {
   "cell_type": "markdown",
   "metadata": {},
   "source": [
    "##### Challenge 7\n",
    "The majority of directors and actors will have worked on a single\n",
    "movie. See if there are any directors that worked with an actor more\n",
    "than once. If so, find the director-actor duo that have worked\n",
    "together the most times."
   ]
  },
  {
   "cell_type": "markdown",
   "metadata": {},
   "source": [
    "##### Challenge 8\n",
    "Create an index on the 'director' field to make the queries involving\n",
    "it faster.\n",
    "[What is an index?](http://en.wikipedia.org/wiki/Database_index)\n",
    "\n",
    "[Creating an index in mongo](http://docs.mongodb.org/manual/tutorial/create-an-index/)\n",
    "[Creating an index in pymongo](http://api.mongodb.org/python/current/api/pymongo/collection.html?highlight=create_index#pymongo.collection.Collection.create_index)\n",
    "[Single field index on mongo](http://docs.mongodb.org/manual/core/index-single/)\n",
    "[Mongo documentation on indexes](http://docs.mongodb.org/manual/core/indexes/)"
   ]
  },
  {
   "cell_type": "markdown",
   "metadata": {},
   "source": [
    "##### Challenge 9 (Optional challenge for early finishers)\n",
    "For each decade, make a histogram of metal scores.\n",
    "Also, calculate the average metal score for each decade. Which decade\n",
    "was the most pure metal decade?"
   ]
  },
  {
   "cell_type": "markdown",
   "metadata": {},
   "source": [
    "##### Note (rather than a challenge)\n",
    "In the latest version of mongo, you can do a text query.\n",
    "To do this, you need to create one (only one) text-based index.\n",
    "Let's index the_meat field so we can make text search queries on it\n",
    "(in pymongo):\n",
    "\n",
    "db.reviews.create_index([(\"the_meat\", pymongo.TEXT,)])\n",
    "\n",
    "Now you can do text search. For example, let's search for the phrase\n",
    "\"hitting power chords\" within \"the_meat\" fields of all our documents.\n",
    "\n",
    "    db.reviews.find({\"$text\": {\"$search\": \"hitting power\n",
    "    chords\"}}).count()\n",
    "\n",
    "    206\n",
    "\n",
    "It has found 206 reviews. I can print the titles of the first 10\n",
    "reviews that were returned in this text search:\n",
    "\n",
    "    ten_matches = r.find({\"$text\": {\"$search\": \"hitting power chords\"}}).limit(10)\n",
    "    for match in ten_matches:\n",
    "        print match[\"title\"]\n",
    "\n",
    "\n",
    "    DOMINATOR\n",
    "    REPO: THE GENETIC OPERA\n",
    "    GREMLINS 2: THE NEW BATCH\n",
    "    VICE SQUAD\n",
    "    THE JERKY BOYS: THE MOVIE\n",
    "    THE SONG REMAINS THE SAME\n",
    "    THE EXORCIST\n",
    "    THE CROW\n",
    "    CANNIBAL HOLOCAUST\n",
    "    HOSTEL\n",
    "\n",
    "Enjoy your text searches : ) These can be very useful in some apps.\n",
    "\n",
    "\n",
    "### Twitter API Extension\n",
    "\n",
    "Create a mongo collection of tweets about something (anything you\n",
    "choose).\n",
    "\n",
    "Each mongo document should contain the text, username, favorite count\n",
    "and retweet count of the tweet."
   ]
  }
 ],
 "metadata": {
  "kernelspec": {
   "display_name": "Python 3",
   "language": "python",
   "name": "python3"
  },
  "language_info": {
   "codemirror_mode": {
    "name": "ipython",
    "version": 3
   },
   "file_extension": ".py",
   "mimetype": "text/x-python",
   "name": "python",
   "nbconvert_exporter": "python",
   "pygments_lexer": "ipython3",
   "version": "3.6.1"
  }
 },
 "nbformat": 4,
 "nbformat_minor": 2
}
